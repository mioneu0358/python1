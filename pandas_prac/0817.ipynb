{
 "cells": [
  {
   "cell_type": "code",
   "execution_count": 7,
   "id": "90bfc3db",
   "metadata": {},
   "outputs": [],
   "source": [
    "import pandas as pd\n",
    "import seaborn as sns\n",
    "import matplotlib.pyplot as plt\n",
    "plt.rc('font',family=\"Malgun Gothic\")\n",
    "plt.rcParams['axes.unicode_minus'] = False\n",
    "\n",
    "df = pd.read_csv(\"Koweps_hpc10_2015_beta1.csv\")\n",
    "codebook = pd.read_excel(\"Koweps_Codebook.xlsx\")"
   ]
  },
  {
   "cell_type": "code",
   "execution_count": null,
   "id": "5de0466d",
   "metadata": {},
   "outputs": [
    {
     "data": {
      "text/html": [
       "<div>\n",
       "<style scoped>\n",
       "    .dataframe tbody tr th:only-of-type {\n",
       "        vertical-align: middle;\n",
       "    }\n",
       "\n",
       "    .dataframe tbody tr th {\n",
       "        vertical-align: top;\n",
       "    }\n",
       "\n",
       "    .dataframe thead th {\n",
       "        text-align: right;\n",
       "    }\n",
       "</style>\n",
       "<table border=\"1\" class=\"dataframe\">\n",
       "  <thead>\n",
       "    <tr style=\"text-align: right;\">\n",
       "      <th></th>\n",
       "      <th>성별</th>\n",
       "      <th>혼인상태</th>\n",
       "    </tr>\n",
       "  </thead>\n",
       "  <tbody>\n",
       "    <tr>\n",
       "      <th>0</th>\n",
       "      <td>여</td>\n",
       "      <td>사별</td>\n",
       "    </tr>\n",
       "    <tr>\n",
       "      <th>1</th>\n",
       "      <td>여</td>\n",
       "      <td>사별</td>\n",
       "    </tr>\n",
       "    <tr>\n",
       "      <th>2</th>\n",
       "      <td>남</td>\n",
       "      <td>사별</td>\n",
       "    </tr>\n",
       "    <tr>\n",
       "      <th>3</th>\n",
       "      <td>남</td>\n",
       "      <td>이혼</td>\n",
       "    </tr>\n",
       "    <tr>\n",
       "      <th>4</th>\n",
       "      <td>여</td>\n",
       "      <td>사별</td>\n",
       "    </tr>\n",
       "    <tr>\n",
       "      <th>...</th>\n",
       "      <td>...</td>\n",
       "      <td>...</td>\n",
       "    </tr>\n",
       "    <tr>\n",
       "      <th>16659</th>\n",
       "      <td>여</td>\n",
       "      <td>유배우</td>\n",
       "    </tr>\n",
       "    <tr>\n",
       "      <th>16660</th>\n",
       "      <td>여</td>\n",
       "      <td>미혼(18세이상, 미혼모 포함)</td>\n",
       "    </tr>\n",
       "    <tr>\n",
       "      <th>16661</th>\n",
       "      <td>남</td>\n",
       "      <td>미혼(18세이상, 미혼모 포함)</td>\n",
       "    </tr>\n",
       "    <tr>\n",
       "      <th>16662</th>\n",
       "      <td>여</td>\n",
       "      <td>비해당(18세 미만)</td>\n",
       "    </tr>\n",
       "    <tr>\n",
       "      <th>16663</th>\n",
       "      <td>남</td>\n",
       "      <td>비해당(18세 미만)</td>\n",
       "    </tr>\n",
       "  </tbody>\n",
       "</table>\n",
       "<p>16664 rows × 2 columns</p>\n",
       "</div>"
      ],
      "text/plain": [
       "      성별               혼인상태\n",
       "0      여                 사별\n",
       "1      여                 사별\n",
       "2      남                 사별\n",
       "3      남                 이혼\n",
       "4      여                 사별\n",
       "...   ..                ...\n",
       "16659  여                유배우\n",
       "16660  여  미혼(18세이상, 미혼모 포함)\n",
       "16661  남  미혼(18세이상, 미혼모 포함)\n",
       "16662  여        비해당(18세 미만)\n",
       "16663  남        비해당(18세 미만)\n",
       "\n",
       "[16664 rows x 2 columns]"
      ]
     },
     "execution_count": 8,
     "metadata": {},
     "output_type": "execute_result"
    }
   ],
   "source": [
    "# 컬럼명 전처리\n",
    "new_column = dict(codebook[[\"변수명\",\"설명\"]].values)\n",
    "df.rename(columns=new_column,inplace=True)\n",
    "\n",
    "# 성별 전처리\n",
    "gender_dataset = codebook['내용'][0].replace('.','').split()\n",
    "df['성별'] = df['성별'].map({int(k):v for k,v in gender_dataset})\n",
    "\n",
    "import re\n",
    "marriage_data = codebook['내용'][2]\n",
    "pattern = r'((\\d+)\\.(.*?)(?=\\s\\d+\\.|$))' \n",
    "# (\\d+)= \\d: 숫자로시작, +:1개이상, (): 이 부분을 결과로 반환\n",
    "# \\.: 마침표찾기,\n",
    "# (.*?) = .: 어떤 문자든 1개, *: 1개이상반복, ?: 가능한 짧게 \n",
    "# (?=\\s\\d+\\.|$) = (?= ...): lookahead라고 불리며, ...에 들어간 패턴이 뒤 따라오는 경우에만을 의미\n",
    "# \\s: 공백문자, \\d+: 숫자하나이상, \\.마침표, |: 또는 $: 문자열 끝\n",
    "marriage_data = re.findall(pattern=pattern,string=marriage_data)\n",
    "df['혼인상태'] = df[\"혼인상태\"].map({int(k):v.strip() for s,k,v in marriage_data})\n",
    "df[['성별','혼인상태']]"
   ]
  },
  {
   "cell_type": "markdown",
   "id": "b5546d16",
   "metadata": {},
   "source": [
    "### 1. 태어난 연도 데이터를 가지고 2015년기준으로 현재 나이를 나타내는 '나이' 열 df에 추가하기\n",
    "### 2. 나이를 기준으로 (0 ~ 29살까지 청년), (30 ~ 59살까지를 중년), (60이상~ 노년)으로 표현하는 '연령대' 열 df에 추가하기\n",
    "### 3. 각 연령대 별 남/여 성비 시각화(막대그래프, x=연령대,y=인원수), 남/여 막대그래프를 다른 색상으로 표현"
   ]
  },
  {
   "cell_type": "code",
   "execution_count": 9,
   "id": "2ae394cb",
   "metadata": {},
   "outputs": [
    {
     "data": {
      "text/plain": [
       "0        79\n",
       "1        70\n",
       "2        67\n",
       "3        73\n",
       "4        92\n",
       "         ..\n",
       "16659    48\n",
       "16660    23\n",
       "16661    20\n",
       "16662    17\n",
       "16663    14\n",
       "Name: 나이, Length: 16664, dtype: int64"
      ]
     },
     "execution_count": 9,
     "metadata": {},
     "output_type": "execute_result"
    }
   ],
   "source": [
    "df['나이'] = 2015- df['태어난 연도']\n",
    "df['나이']"
   ]
  },
  {
   "cell_type": "code",
   "execution_count": null,
   "id": "659350c9",
   "metadata": {},
   "outputs": [],
   "source": [
    "age_range = [0,29,59,100]\n",
    "age_labels = ['청'] "
   ]
  }
 ],
 "metadata": {
  "kernelspec": {
   "display_name": "Python 3",
   "language": "python",
   "name": "python3"
  },
  "language_info": {
   "codemirror_mode": {
    "name": "ipython",
    "version": 3
   },
   "file_extension": ".py",
   "mimetype": "text/x-python",
   "name": "python",
   "nbconvert_exporter": "python",
   "pygments_lexer": "ipython3",
   "version": "3.12.0"
  }
 },
 "nbformat": 4,
 "nbformat_minor": 5
}
